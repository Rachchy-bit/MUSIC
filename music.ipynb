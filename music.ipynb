{
 "cells": [
  {
   "cell_type": "code",
   "execution_count": 1,
   "id": "36763c50-cabe-4885-b4f1-a8762fdf947a",
   "metadata": {},
   "outputs": [],
   "source": [
    "import pandas as pd\n",
    "from sklearn.tree import DecisionTreeClassifier\n",
    "from sklearn.model_selection import train_test_split\n",
    "from sklearn.metrics import accuracy_score\n",
    "import joblib"
   ]
  },
  {
   "cell_type": "code",
   "execution_count": 12,
   "id": "bc8dea0e-d5fe-42ad-b591-04e73d8b444f",
   "metadata": {},
   "outputs": [
    {
     "data": {
      "text/plain": [
       "0.4"
      ]
     },
     "execution_count": 12,
     "metadata": {},
     "output_type": "execute_result"
    }
   ],
   "source": [
    "# df=pd.read_csv(\"C:/Users/USER/Desktop/Python/l6/MUSIC/music.csv\")\n",
    "# X=df.drop(columns=[\"genre\"])     #getting the feature matrix by dropping the target\n",
    "# y=df[\"genre\"]     #target vector or the output\n",
    "# X_train, X_test, y_train, y_test=train_test_split(X,y,test_size=0.8)\n",
    "\n",
    "\n",
    "# model=DecisionTreeClassifier() \n",
    "# model.fit(X_train,y_train)\n",
    "\n",
    "#joblib.dump(model,\"music-recommender.joblib\") **** we used this to train the model earlier which is saved on the memory thats why model is successfully\n",
    "#loading even though the code is commented out\n",
    "\n",
    "model=joblib.load(\"music-recommender.joblib\")\n",
    "\n",
    "predictions=model.predict(X_test)\n",
    "accuracy=accuracy_score(y_test,predictions)\n",
    "accuracy    \n",
    "\n",
    "#every time we get different accuracy as the train_test_split class always takes splits randomly following the given ratio by us\n",
    "#the smaller the test size , the larger the training set as the larger the accuracy\n",
    "#larger the accuracy the better the model\n"
   ]
  },
  {
   "cell_type": "code",
   "execution_count": null,
   "id": "0f4f921e-db97-4c56-b35e-ed5730f71e94",
   "metadata": {},
   "outputs": [],
   "source": []
  },
  {
   "cell_type": "code",
   "execution_count": null,
   "id": "3e37a3fe-5995-4229-baf5-ab2c53880644",
   "metadata": {},
   "outputs": [],
   "source": []
  }
 ],
 "metadata": {
  "kernelspec": {
   "display_name": "Python [conda env:base] *",
   "language": "python",
   "name": "conda-base-py"
  },
  "language_info": {
   "codemirror_mode": {
    "name": "ipython",
    "version": 3
   },
   "file_extension": ".py",
   "mimetype": "text/x-python",
   "name": "python",
   "nbconvert_exporter": "python",
   "pygments_lexer": "ipython3",
   "version": "3.12.7"
  }
 },
 "nbformat": 4,
 "nbformat_minor": 5
}
